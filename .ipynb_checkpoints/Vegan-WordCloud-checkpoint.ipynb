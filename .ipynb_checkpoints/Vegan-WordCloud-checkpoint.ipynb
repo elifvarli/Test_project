{
 "cells": [
  {
   "cell_type": "code",
   "execution_count": 1,
   "id": "a4d41fdb-3f68-442f-b852-30fc989c5404",
   "metadata": {
    "tags": []
   },
   "outputs": [],
   "source": [
    "import dotenv #Retrieves environmental variables\n",
    "import os # Library for Mac\n",
    "\n",
    "import re # RegEx for pattern matching\n",
    "import string # String functions\n",
    "\n",
    "# Connect to the Reddit API\n",
    "import requests\n",
    "import urllib.request\n",
    "\n",
    "from PIL import Image # To display images\n",
    "from gensim.corpora import Dictionary # Holds a dictionary of English words\n",
    "\n",
    "# Libraries for data + Visualisation\n",
    "import pandas as pd\n",
    "import numpy as np\n",
    "import matplotlib.pyplot as plt\n",
    "import seaborn as sns\n",
    "from wordcloud import WordCloud, ImageColorGenerator\n",
    "\n",
    "# Bunch of useful functionalities from NLTK\n",
    "import nltk # Natural Language Tokenization\n",
    "from nltk.corpus import stopwords # A list of stopwords\n",
    "from nltk.tokenize import word_tokenize # Tokenization from NLTK"
   ]
  },
  {
   "cell_type": "code",
   "execution_count": 2,
   "id": "dfd0ee00-be9b-4efa-8595-f14424c9cf87",
   "metadata": {
    "tags": []
   },
   "outputs": [],
   "source": [
    "REDDIT_PERSONAL_SCRIPT=dotenv.dotenv_values('/Users/v/Desktop/API+/.env')[\"REDDIT_PERSONAL_SCRIPT\"]\n",
    "REDDIT_CODE=dotenv.dotenv_values('/Users/v/Desktop/API+/.env')[\"REDDIT_CODE\"]\n",
    "REDDIT_USERNAME=dotenv.dotenv_values('/Users/v/Desktop/API+/.env')[\"REDDIT_USERNAME\"]\n",
    "REDDIT_PASSWORD=dotenv.dotenv_values('/Users/v/Desktop/API+/.env')[\"REDDIT_PASSWORD\"]"
   ]
  },
  {
   "cell_type": "code",
   "execution_count": 3,
   "id": "fa39e0b2-a8de-4fed-abff-6f1ec544f686",
   "metadata": {
    "tags": []
   },
   "outputs": [
    {
     "name": "stdout",
     "output_type": "stream",
     "text": [
      "Reddit token retreived! Expires in 1.00 days.\n"
     ]
    }
   ],
   "source": [
    "# script request access token\n",
    "# https://github.com/reddit-archive/reddit/wiki/OAuth2-Quick-Start-Example\n",
    "r = requests.post(\n",
    "    'https://www.reddit.com/api/v1/access_token',\n",
    "    auth=requests.auth.HTTPBasicAuth(\n",
    "        REDDIT_PERSONAL_SCRIPT,  # API SCRIPT CLIENT ID\n",
    "        REDDIT_CODE,  # API SCRIPT SECRET\n",
    "    ),\n",
    "    data={\n",
    "       'grant_type': 'password',\n",
    "       'username': REDDIT_USERNAME,  # REDDIT USERNAME\n",
    "       'password': REDDIT_PASSWORD,  # REDDIT PASSWORD\n",
    "    },\n",
    "    headers={\n",
    "        'User-Agent': 'MyAPI/0.0.1',\n",
    "    },\n",
    ")\n",
    "r_json = r.json()\n",
    "print(f\"Reddit token retreived! Expires in {r_json['expires_in']/86400:.2f} days.\")\n",
    "TOKEN = r.json()['access_token']  "
   ]
  },
  {
   "cell_type": "code",
   "execution_count": 4,
   "id": "3c8051fb-4d64-41c5-b057-1131165cdbf6",
   "metadata": {
    "tags": []
   },
   "outputs": [
    {
     "name": "stderr",
     "output_type": "stream",
     "text": [
      "[nltk_data] Downloading package stopwords to /Users/v/nltk_data...\n",
      "[nltk_data]   Package stopwords is already up-to-date!\n",
      "[nltk_data] Downloading package punkt to /Users/v/nltk_data...\n",
      "[nltk_data]   Package punkt is already up-to-date!\n"
     ]
    },
    {
     "data": {
      "text/plain": [
       "True"
      ]
     },
     "execution_count": 4,
     "metadata": {},
     "output_type": "execute_result"
    }
   ],
   "source": [
    "nltk.download('stopwords')\n",
    "nltk.download('punkt')"
   ]
  },
  {
   "cell_type": "code",
   "execution_count": 5,
   "id": "cfa76914-3a01-46de-9294-52723bd19a25",
   "metadata": {
    "tags": []
   },
   "outputs": [
    {
     "data": {
      "text/plain": [
       "<Response [200]>"
      ]
     },
     "execution_count": 5,
     "metadata": {},
     "output_type": "execute_result"
    }
   ],
   "source": [
    "# Area to log in\n",
    "headers = {'User-Agent': 'MyAPI/0.0.1'}\n",
    "\n",
    "# Passing the authentification token\n",
    "headers = {**headers, **{'Authorization': f\"bearer {TOKEN}\"}}\n",
    "\n",
    "# Creating an API request\n",
    "requests.get('https://oauth.reddit.com/api/v1/me', headers=headers)"
   ]
  },
  {
   "cell_type": "code",
   "execution_count": 6,
   "id": "ba1aeb59-cb9a-4be7-a1a3-a2229bd82a34",
   "metadata": {
    "tags": []
   },
   "outputs": [],
   "source": [
    "# Connecting to r/vegan subreddit on Reddit\n",
    "res = requests.get(\"https://oauth.reddit.com/r/vegan\", # Subreddit\n",
    "                   headers=headers) # API point"
   ]
  },
  {
   "cell_type": "code",
   "execution_count": null,
   "id": "11b9f0ea-6a45-437f-b8e2-8cb4779f5d03",
   "metadata": {
    "scrolled": true,
    "tags": []
   },
   "outputs": [],
   "source": [
    "# Checking the response\n",
    "res.json()"
   ]
  },
  {
   "cell_type": "code",
   "execution_count": 8,
   "id": "c1844d98-58af-4e30-9587-8dc1cb1e5ab7",
   "metadata": {
    "tags": []
   },
   "outputs": [
    {
     "data": {
      "text/plain": [
       "'Hi! We\\'re from [Animal Charity Evaluators](https://animalcharityevaluators.org/) (ACE) and on February 19, we opened applications for our 2024 [Movement Grants](https://animalcharityevaluators.org/movement-grants/)! **We\\'ll be on the FAST** [Animal Advocacy Forum](https://forum.fastcommunity.org/) **answering your questions on March 5th, 8-10am PT.**\\n\\n*Do you have a promising charity or project? If so, we encourage you to apply for a grant! The AMA is your chance to ask our team about what projects we’re likely to fund, the application process, how to make a good application, and anything else about the program. Applications close March 17, 11:59 PM PT.*\\n\\n**Our team members answering questions are:**\\n\\n* Eleanor McAree, Movement Grants Manager\\n* Elisabeth Ormandy, Programs Director\\n* Holly Baines, Communications Manager\\n\\nWe\\'re looking forward to your questions on **March 5th, 8-10am PT!**\\xa0\\n\\n**Animal Charity Evaluators (ACE)** is a 501(c)(3) non-profit that uses evidence and reason to serve people who want to help animals. Trillions of animals experience extensive but avoidable suffering on farms and in the wild, which motivates our team to contribute to a world where all animals can flourish regardless of their species. We work toward this by identifying where donations can best help animals and awarding grants to promising projects that help animals around the globe.\"\\n\\n**How to participate?** Visit the FAST [Animal Advocacy Forum](https://forum.fastcommunity.org/) on March 5th, 8-10am PT and you\\'ll see a new sticky thread at the top. Click the thread, ask a question, and join the fun! We look forward to seeing you there.'"
      ]
     },
     "execution_count": 8,
     "metadata": {},
     "output_type": "execute_result"
    }
   ],
   "source": [
    "# Fetching the content of the post\n",
    "res.json()['data']['children'][0]['data']['selftext']"
   ]
  },
  {
   "cell_type": "code",
   "execution_count": 9,
   "id": "10df4408-405a-4fae-8b41-b927e7b6c667",
   "metadata": {
    "scrolled": true,
    "tags": []
   },
   "outputs": [
    {
     "name": "stdout",
     "output_type": "stream",
     "text": [
      "Hi! We're from [Animal Charity Evaluators](https://animalcharityevaluators.org/) (ACE) and on February 19, we opened applications for our 2024 [Movement Grants](https://animalcharityevaluators.org/movement-grants/)! **We'll be on the FAST** [Animal Advocacy Forum](https://forum.fastcommunity.org/) **answering your questions on March 5th, 8-10am PT.**\n",
      "\n",
      "*Do you have a promising charity or project? If so, we encourage you to apply for a grant! The AMA is your chance to ask our team about what projects we’re likely to fund, the application process, how to make a good application, and anything else about the program. Applications close March 17, 11:59 PM PT.*\n",
      "\n",
      "**Our team members answering questions are:**\n",
      "\n",
      "* Eleanor McAree, Movement Grants Manager\n",
      "* Elisabeth Ormandy, Programs Director\n",
      "* Holly Baines, Communications Manager\n",
      "\n",
      "We're looking forward to your questions on **March 5th, 8-10am PT!** \n",
      "\n",
      "**Animal Charity Evaluators (ACE)** is a 501(c)(3) non-profit that uses evidence and reason to serve people who want to help animals. Trillions of animals experience extensive but avoidable suffering on farms and in the wild, which motivates our team to contribute to a world where all animals can flourish regardless of their species. We work toward this by identifying where donations can best help animals and awarding grants to promising projects that help animals around the globe.\"\n",
      "\n",
      "**How to participate?** Visit the FAST [Animal Advocacy Forum](https://forum.fastcommunity.org/) on March 5th, 8-10am PT and you'll see a new sticky thread at the top. Click the thread, ask a question, and join the fun! We look forward to seeing you there.\n",
      "~~~~~~~~~~~~~~~~~~~~~\n",
      "~~~~~~~~~~~~~~~~~~~~~\n",
      "\n",
      "~~~~~~~~~~~~~~~~~~~~~\n",
      "~~~~~~~~~~~~~~~~~~~~~\n",
      "The company is ordering pizza today for two departments. My department is ordering from a place that has beef pepperoni for halal people. The other place is ordering from somewhere with all regular pizza but with a dairy free cheese option, that they won’t be using because no one in that department is vegan ..\n",
      "\n",
      "My manager recently had asked me to chip in on a pizza party and i said no because i couldn’t eat it and they wouldn’t be getting anything for me so im not paying, this time they could easily do it though and its company paid for!! This time i said “why can’t we order from the same place as the other department, they have a vegan cheese option” and she told me that they will be ordering from the restaurant they chose instead which has BEEF pepperoni because “some of our employees don’t eat pork 🥺 and they want pepperoni”. I wanted to explain that that’s so fucking unfair because they could eat a regular damn cheese pizza from the other place!!! but i can eat nothing from this one. She offered to get me a side of fries or a salad but as we all know salads are never even vegan (fuck the vegans only eat salad stereotype)\n",
      "\n",
      "I’m so annoyed man. I just hate that people respect the halal religious beliefs so much but won’t respect veganism. I see all animal products the way they see pork. They can easily eat a cheese pizza and be very happy but i would be disgusted… same way they would be disgusted by pork. \n",
      "\n",
      "Edit: I’m venting. This is the only place i can vent in where I thought people could understand and not call me crazy for my strong emotions on this matter. It’s upsetting to see you all defending the non vegans and agreeing with how they treats us.. if you don’t understand it’s probably because you’re not vegan for the same reasons i am and are taking the way i’m venting too seriously lol i’m not dumb I know the world doesn’t revolve around me but if you can’t see the wrongness in this then that’s beyond me. \n",
      "~~~~~~~~~~~~~~~~~~~~~\n",
      "~~~~~~~~~~~~~~~~~~~~~\n",
      "I have been vegan for 3 years now. Recently, I have been thinking about my perception of others, the world, and humans in general when it specifically comes to my own identity of being vegan.\n",
      "\n",
      "I have realized that it has caused me to feel misunderstood, alone, and especially judgmental towards others (basically 99% of the world) who don't share this same belief that I do. \n",
      "\n",
      "I realized I feel so disconnected from other people. That this belief has actually created this sort of filter upon humanity, to only see the 'bad' the 'cruel' and making me feel more unempathetic in many cases towards other humans.\n",
      "\n",
      "My empathy towards animals is deep felt, and my heart is with them in every way. But when it comes to humans, I can't help but feel like this belief of mine has caused me to feel like I'm looking from the outside in to the rest of the world. That being vegan has only caused me to turn my back on something else; other humans. \n",
      "\n",
      "Has anyone else felt this way? It's becoming exhausting. I have even thought about 'what if' I stopped being vegan. But every time I think of it, I just can't stomach the thought of it. I always think about all of the animals that are suffering at this very moment. Although a part of me has also thought about all of the products I have purchased, all of the things I own and buy that were unethically created, and I just don't know about it. Even more so, sometimes I feel like a hypocrite, pointing the finger and yet not taking as much as a stand to be a voice for all other unethical, problematic issues happening around the world.\n",
      "\n",
      "Any advice would be appreciated. 😞\n",
      "\n",
      "~~~~~~~~~~~~~~~~~~~~~\n",
      "~~~~~~~~~~~~~~~~~~~~~\n",
      "Hey yall so I am a chef and get tired of making the same two things for those with these specific dietary restrictions. I would love to hear what vegan and vegetarian individuals would like to see on a menu when they go out to eat. For some context I work at a distillery and have classic “pub grub” such as burgers, pretzel bites, nachos, etc. would love to know what you guys would genuinely like to see on a menu rather than the classic veggie wrap/burger and hummus. \n",
      "~~~~~~~~~~~~~~~~~~~~~\n",
      "~~~~~~~~~~~~~~~~~~~~~\n",
      "\n",
      "~~~~~~~~~~~~~~~~~~~~~\n",
      "~~~~~~~~~~~~~~~~~~~~~\n",
      "pretty self explanatory, but how is veganism the underground thing in society, that eating meat due to the exploitation and cruelty perpetuated against living animals is however the natural and main thing and isn’t something you’re meant to tempt someone into. Plants are natural, so are all plant based foods, why is killing and eating creatures inherent to the human race? Who started this? What is the history behind it? I hate how it is always such a reckoning force for people to accept that you’re plant based and when they make their snide comments and say passive aggressive “jokes” when they’re literally going against the grain by eating something that is only sourced through unethical demise. \n",
      "~~~~~~~~~~~~~~~~~~~~~\n",
      "~~~~~~~~~~~~~~~~~~~~~\n",
      "\n",
      "~~~~~~~~~~~~~~~~~~~~~\n",
      "~~~~~~~~~~~~~~~~~~~~~\n",
      "I think there should be a pinned post in this sub (if there isn’t already) dedicated exclusively for people who want to connect or network with fellow vegans either in person or online. I have been vegan for almost 4 years now and to be honest, I have had difficulty with finding vegan friends, specifically in person. To my understanding, many other vegans have had a similar issue. Since vegan dating apps (which can also be used to find friends) are largely unpopulated (i.e. Veggly and VegPal), I think having a pinned post would be great to help those such as myself find vegans to connect with. I think the rules for said post can be as simple as posting what you are looking for (romantic partner, friends, business partners, etc), age, and gender. Your first name, country/region/state you live in, and relationship status can be seen as optional. I’d love to hear what you all think about this! -OneLove 🌹\n",
      "\n",
      "TL;DR. I need vegan friends to prevent myself from dying from loneliness and turning this sub into a dating app is my last resort 🙃🙃\n",
      "\n",
      "~~~~~~~~~~~~~~~~~~~~~\n",
      "~~~~~~~~~~~~~~~~~~~~~\n",
      "Maybe this is too random of a post for this subreddit but I wanted to say the best part of being vegan, in a vegan household, is that I *NEVER* have to worry about my kitchen or food being contaminated from raw meat! I have contamination OCD and when I lived with my parents I would spiral so much. I would freak when my mom would “wash the chicken” or that the spoon she used to stir my food was also used in their animal products. Or that the cutting board wasn’t cleaned right after they were cutting raw meat. My roommate and I are both vegan and now I don’t have to worry about getting salmonella or some shit. All I gotta do is wash my veggies! Long gone are the days of moldy cheese in the fridge or meat liquid leaking into the veggie crisper. I find so much joy in the kitchen now compared to when I was scared to eat/cook anything. That’s all thanks for reading. \n",
      "~~~~~~~~~~~~~~~~~~~~~\n",
      "~~~~~~~~~~~~~~~~~~~~~\n",
      "Just anything that stumped you, or made you think for a minute, even if you ended up disproving it? I'm yet to find an argument that can stand its ground, and I believe that \"non-vegans\" justify their moral code on one or more of three things: ignorance (on purpose or not), selective nuance, or a lack of care for animals at all.\n",
      "\n",
      "Apologies if you feel like this discussion doesn't belong in this subreddit. I can delete it if I get enough feedback for it.\n",
      "\n",
      "Edit: I only ask this because I do believe in the vegan cause, but I also believe in challenging all my beliefs. However, every reason I've heard against veganism is just some sort of argument that needs nuance and is easy to poke holes in.\n",
      "~~~~~~~~~~~~~~~~~~~~~\n",
      "~~~~~~~~~~~~~~~~~~~~~\n",
      "Two of the very best vegan nutritionists are Jack Norris and Virginia Messina. Many of you will be familiar with them, but they aren't as well known as Dr. Greger, Neil Barnard or various other vegan doctors and nutritionists. But I think Jack and Virginia (Ginny) deserve to be heard. In fact, I respect them because they are, in my view, the most dedicated to being accurate even if that means saying \"hey, vegans need to be careful about vitamin #\\*$\\*#\"\n",
      "\n",
      "Here is Jack's website:  [Vegan Health – Evidence-Based Nutrient Recommendations](https://veganhealth.org/)\n",
      "\n",
      "He lists each nutrient, how much the average person needs, how they can get it, and even lists studies specific to vegans. I do not want to impugn the reputation of any of the other vegan doctors, but I really get the sense that Jack's website is the most dedicated to following the science, wherever it goes.\n",
      "\n",
      "Here are their recommended books on vegan nutrition, which includes one they wrote together:  [Books on Vegan Nutrition – Vegan Health](https://veganhealth.org/books-on-nutrition/)\n",
      "\n",
      "Ginny hasn't updated her website in a while, but her older writings can be found here:  [The Vegan RD – Thoughts on being vegan: a dietician's perspective.](https://www.theveganrd.com/)\n",
      "\n",
      "I hope others will find their websites and books as useful as I have. I used Jack's website to talk someone into staying vegan. She had said she might quit because of a particular nutrient she was unsure she was getting. But she was so impressed with the science on Jack's site that she recommitted to veganism.\n",
      "~~~~~~~~~~~~~~~~~~~~~\n",
      "~~~~~~~~~~~~~~~~~~~~~\n",
      "I feel compelled by the arguments for veganism. And as someone who learns philosophy, I understand most of the moral reasoning to become vegan. I wonder if you guys have tips for a beginner.\n",
      "\n",
      "Also: my family raised a question which I am not sure how to answer. They told me that if I become a vegan and depend more on vegetables, I'll be supporting more killing of small animals that die in vegetable farming like worms and bugs. What would you guys say to that?\n",
      "~~~~~~~~~~~~~~~~~~~~~\n",
      "~~~~~~~~~~~~~~~~~~~~~\n",
      "\n",
      "~~~~~~~~~~~~~~~~~~~~~\n",
      "~~~~~~~~~~~~~~~~~~~~~\n",
      "What do you think the main reason is? Do people not care or not know? I was recently on an askreddit about jobs you wouldn't do and it seemed like some of them related to slaughterhouses and meateating people barely were aware. Do you think it's simply awareness? For me it would be hard to watch dominion or a lot of other documentaries without being vegan. \n",
      "Edit: I'm just looking for honest responses of vegans and non vegans. Not necessarily looking to start a debate. Remember, respectful opinions you don't agree with are adding to the discussion, too. \n",
      "~~~~~~~~~~~~~~~~~~~~~\n",
      "~~~~~~~~~~~~~~~~~~~~~\n",
      "Hi so I've been vegetarian for 3+ years but I'm struggling to go vegan.\n",
      "Don't get me wrong, everytime I can (2/3 meals) I eat vegan. I also replace everything I can with vegan alternatives (coconut milk for ex and choosing vegan option over vegetarian one in restaurants).\n",
      "\n",
      "But I have some chronic illnesses and overall fragile health... I already take many, many vitamins etc pills but I still feel weak. I went to a doctor maybe 10 times in the past 6 months and got analysis done but they don't know how to help. (When I eat just a few hours too late or with not enough vitamins I get a fever and/or feel fainted.)\n",
      "\n",
      "So far, I'm only taking family-friendly farms eggs and limit dairy consumption. I don't really understand why I need to give up on eggs since they're local and the chicken there are from a small ethical farm. I also don't buy cosmetics unless they're vegan and cruelty free.\n",
      "\n",
      "Any advice?\n",
      "~~~~~~~~~~~~~~~~~~~~~\n",
      "~~~~~~~~~~~~~~~~~~~~~\n",
      "Hi.\n",
      "\n",
      "For a school project we're supposed to debate ethical and moral topics with the whole class.\n",
      "As a vegan I obviously chose veganism.\n",
      "\n",
      "Now, we're supposed to lead the debate with questions and are not allowed to convert anyone to our choosen topic. \n",
      "\n",
      "I just don't know how to approach the topic and what questions are best to ask.\n",
      "\n",
      "Also, and I might just be in my bubble here, but I'm afraid everyone will go \"oh yeah, you're right that we shouldn't kill, torture and eat animals and there is no rational argument against exploitation but consuming animals is a habit and I won't stop.\" And then the debate stops. (It's supposed to be 30 minutes long.)\n",
      "\n",
      "Maybe someone can help me out with questions and how to go on from there. Thanks.\n",
      "~~~~~~~~~~~~~~~~~~~~~\n",
      "~~~~~~~~~~~~~~~~~~~~~\n",
      "\n",
      "~~~~~~~~~~~~~~~~~~~~~\n",
      "~~~~~~~~~~~~~~~~~~~~~\n",
      "You may already be well familiar with hummus, guacamole or chickpea curry, but the world is a really big place, and I believe international food has many more gems to offer than we give it credit for- All it takes is to ask around.\n",
      "\n",
      "So which of these lesser known dishes do you recognize by their foreign name?\n",
      "\n",
      "Zenzai/oshiruko\n",
      "\n",
      "Sikil Pak\n",
      "\n",
      "Waakye\n",
      "\n",
      "Rummaniyeh\n",
      "\n",
      "Vada Pav\n",
      "\n",
      "Kutia\n",
      "\n",
      "Tohu Thoke\n",
      "\n",
      "Nasu Dengaku\n",
      "\n",
      "Akara/Akaraje\n",
      "\n",
      "Castagnaccio\n",
      "\n",
      "Houbovy Kuba\n",
      "\n",
      "Lo Han Jai\n",
      "\n",
      "Tsampa\n",
      "\n",
      "Skordalia\n",
      "\n",
      "Koshari\n",
      "\n",
      "Upma\n",
      "\n",
      "Maccu di Fave\n",
      "\n",
      "Oyaki\n",
      "\n",
      "Orek Tempe\n",
      "\n",
      "Soparnik\n",
      "\n",
      "Cig Kofte\n",
      "~~~~~~~~~~~~~~~~~~~~~\n",
      "~~~~~~~~~~~~~~~~~~~~~\n",
      "i havent had them in about half a year since i went vegan and im not gonna lie im missing them bad LOL. i wanna make some with seitan but i keep debating on the right method. i thought about using sticks as a base and then wrapping the seitan around it but i dont know if i could get it stringy enough as compared to making balls of kneaded seitan? and does baking them until theyre done, then air frying with some breadcrumbs sound right or nah. basically what would yall do to make vegan wings •_•\n",
      "~~~~~~~~~~~~~~~~~~~~~\n",
      "~~~~~~~~~~~~~~~~~~~~~\n",
      "Hello! I have been vegan 3.5+ years with no plans on changing that. \n",
      "\n",
      "I am just wondering if anyone had an experience where they started craving dairy again after this long? Specifically, I am wondering if there is something I could be low in that I should get bloodwork for because this is very unusual for me.\n",
      "\n",
      "I am pretty good at getting bloodwork for my “vegan vitamins” at least annually. I’m wondering if I’m potentially low on something like calcium and if anyone has had these cravings go away with increasing something that is commonly found in dairy.\n",
      "\n",
      "I love dairy substitutes and they taste just as good so it isn’t that- I really can’t explain why this is happening. I am also considering that I’m having hormonal changes due to a change in birth control which could perhaps be linked?\n",
      "\n",
      "Again, no plans on becoming vegetarian and I could ultimately get through with willpower, but this is just very unusual so I want to make sure I’m not missing something health-wise causing this. \n",
      "\n",
      "TLDR; Vegan 3.5+ years craving dairy- Any potential nutrient deficiency I should look out for?\n",
      "~~~~~~~~~~~~~~~~~~~~~\n",
      "~~~~~~~~~~~~~~~~~~~~~\n",
      "Been reading some stuff on Zen recentlty by Alan Watts and he mentioned in passing a couple times about the philosophy of treating both humans and animals equal. \n",
      "\n",
      "So I am wondering, does anyone know/have any resources/understand the history of buddhist philosophy on veganism and if so could point me in the right direction? \n",
      "\n",
      "Thanks so much, sorry if this is out of left feild of this sub! \n",
      "~~~~~~~~~~~~~~~~~~~~~\n",
      "~~~~~~~~~~~~~~~~~~~~~\n",
      "Hello! I need some advice for my soap making business.\n",
      "\n",
      "I've decided that I'd like to branch out and make my soaps more vegan friendly and I need to understand the situation with palm oil\n",
      "\n",
      "I am not a vegan myself and to my knowledge I don't know any vegans either so I came to reddit to find out more\n",
      "\n",
      "I am currently using a soap base that has \"reasonably sourced palm oil\" which is stated to be vegan friendly but I just wanted to confirm whether it actually is? Because I really don't want to upset any potential customers by marketing as vegan when in fact it isn't\n",
      "\n",
      "Hope you lovely lot can shed some light on this &lt;3 thanks in advance \n",
      "\n",
      "(I will be stating the fact that it has reasonably sourced palm oil in the ingredients just in case either way)\n",
      "~~~~~~~~~~~~~~~~~~~~~\n",
      "~~~~~~~~~~~~~~~~~~~~~\n",
      "Please note that *you can only choose one option* (&amp; you cannot change your answer)  That is why I asked what is the **main reason**\n",
      "\n",
      "[View Poll](https://www.reddit.com/poll/1b3mf6o)\n",
      "~~~~~~~~~~~~~~~~~~~~~\n",
      "~~~~~~~~~~~~~~~~~~~~~\n",
      "\n",
      "~~~~~~~~~~~~~~~~~~~~~\n",
      "~~~~~~~~~~~~~~~~~~~~~\n",
      " Hey guys, \n",
      "\n",
      "I need your help. \n",
      "\n",
      "I’m working on my last year university thesis 🥲 \n",
      "\n",
      "The topic is asks how food companies like restaurants, supermarkets or producers can adjust to EU policy (Green claims initiative) to analyse their food product emissions and make that information accessible to the everyday buyer \n",
      "\n",
      "I think that new startups like [CarbonTag](https://carbontag.org/) or CarbonCloud who have developed massive databases to show this data and also help all these businesses reduce their CO2 footprint in the long run are very cooll!!\n",
      "\n",
      "I’m not sure if I should commit to this topic and use the case study or if this is too unrealistic \n",
      "\n",
      "Can you guys help me? What do you think of my business (startup) choice as a case study?\n",
      "\n",
      "\n",
      "~~~~~~~~~~~~~~~~~~~~~\n",
      "~~~~~~~~~~~~~~~~~~~~~\n"
     ]
    },
    {
     "ename": "IndexError",
     "evalue": "list index out of range",
     "output_type": "error",
     "traceback": [
      "\u001b[0;31m---------------------------------------------------------------------------\u001b[0m",
      "\u001b[0;31mIndexError\u001b[0m                                Traceback (most recent call last)",
      "Cell \u001b[0;32mIn[9], line 3\u001b[0m\n\u001b[1;32m      1\u001b[0m \u001b[38;5;66;03m# Fetching the first 50 most recent posts on the subreddit\u001b[39;00m\n\u001b[1;32m      2\u001b[0m \u001b[38;5;28;01mfor\u001b[39;00m i \u001b[38;5;129;01min\u001b[39;00m \u001b[38;5;28mrange\u001b[39m(\u001b[38;5;241m50\u001b[39m):\n\u001b[0;32m----> 3\u001b[0m     \u001b[38;5;28mprint\u001b[39m(res\u001b[38;5;241m.\u001b[39mjson()[\u001b[38;5;124m'\u001b[39m\u001b[38;5;124mdata\u001b[39m\u001b[38;5;124m'\u001b[39m][\u001b[38;5;124m'\u001b[39m\u001b[38;5;124mchildren\u001b[39m\u001b[38;5;124m'\u001b[39m][i][\u001b[38;5;124m'\u001b[39m\u001b[38;5;124mdata\u001b[39m\u001b[38;5;124m'\u001b[39m][\u001b[38;5;124m'\u001b[39m\u001b[38;5;124mselftext\u001b[39m\u001b[38;5;124m'\u001b[39m], end \u001b[38;5;241m=\u001b[39m \u001b[38;5;124m\"\u001b[39m\u001b[38;5;130;01m\\n\u001b[39;00m\u001b[38;5;124m~~~~~~~~~~~~~~~~~~~~~\u001b[39m\u001b[38;5;130;01m\\n\u001b[39;00m\u001b[38;5;124m~~~~~~~~~~~~~~~~~~~~~\u001b[39m\u001b[38;5;130;01m\\n\u001b[39;00m\u001b[38;5;124m\"\u001b[39m)\n",
      "\u001b[0;31mIndexError\u001b[0m: list index out of range"
     ]
    }
   ],
   "source": [
    "# Fetching the first 50 most recent posts on the subreddit\n",
    "for i in range(50):\n",
    "    print(res.json()['data']['children'][i]['data']['selftext'], end = \"\\n~~~~~~~~~~~~~~~~~~~~~\\n~~~~~~~~~~~~~~~~~~~~~\\n\")"
   ]
  },
  {
   "cell_type": "code",
   "execution_count": 10,
   "id": "4edcd3b1-ae60-427c-86a0-42bdac5362b1",
   "metadata": {
    "tags": []
   },
   "outputs": [
    {
     "data": {
      "text/html": [
       "<div>\n",
       "<style scoped>\n",
       "    .dataframe tbody tr th:only-of-type {\n",
       "        vertical-align: middle;\n",
       "    }\n",
       "\n",
       "    .dataframe tbody tr th {\n",
       "        vertical-align: top;\n",
       "    }\n",
       "\n",
       "    .dataframe thead th {\n",
       "        text-align: right;\n",
       "    }\n",
       "</style>\n",
       "<table border=\"1\" class=\"dataframe\">\n",
       "  <thead>\n",
       "    <tr style=\"text-align: right;\">\n",
       "      <th></th>\n",
       "      <th>posts</th>\n",
       "    </tr>\n",
       "  </thead>\n",
       "  <tbody>\n",
       "    <tr>\n",
       "      <th>0</th>\n",
       "      <td>Hi! We're from [Animal Charity Evaluators](htt...</td>\n",
       "    </tr>\n",
       "    <tr>\n",
       "      <th>1</th>\n",
       "      <td></td>\n",
       "    </tr>\n",
       "    <tr>\n",
       "      <th>2</th>\n",
       "      <td>The company is ordering pizza today for two de...</td>\n",
       "    </tr>\n",
       "    <tr>\n",
       "      <th>3</th>\n",
       "      <td>I have been vegan for 3 years now. Recently, I...</td>\n",
       "    </tr>\n",
       "    <tr>\n",
       "      <th>4</th>\n",
       "      <td>Hey yall so I am a chef and get tired of makin...</td>\n",
       "    </tr>\n",
       "  </tbody>\n",
       "</table>\n",
       "</div>"
      ],
      "text/plain": [
       "                                               posts\n",
       "0  Hi! We're from [Animal Charity Evaluators](htt...\n",
       "1                                                   \n",
       "2  The company is ordering pizza today for two de...\n",
       "3  I have been vegan for 3 years now. Recently, I...\n",
       "4  Hey yall so I am a chef and get tired of makin..."
      ]
     },
     "execution_count": 10,
     "metadata": {},
     "output_type": "execute_result"
    }
   ],
   "source": [
    "# Getting all the posts into a dataframe\n",
    "df = pd.DataFrame([res.json()['data']['children'][i]['data']['selftext'] for i in range(25)], columns = ['posts'])\n",
    "\n",
    "# Checking the dataframe\n",
    "df.head()"
   ]
  },
  {
   "cell_type": "code",
   "execution_count": 11,
   "id": "ebf3a54f-281c-4983-9a12-69dd93c87854",
   "metadata": {
    "tags": []
   },
   "outputs": [],
   "source": [
    "def regex_clean(txt, regex):\n",
    "    \"\"\"Replace any text matching the regex\n",
    "\n",
    "    Parameters\n",
    "    ----------\n",
    "    txt : string\n",
    "        A text string that you want to parse and remove matches\n",
    "    regex : string \n",
    "        A text string of the regex pattern you want to match\n",
    "\n",
    "    Returns\n",
    "    -------\n",
    "    The same txt string with the matches removes\n",
    "    \"\"\"\n",
    "\n",
    "    return \" \".join(re.sub(regex, \"\", txt).split())\n",
    "\n",
    "def remove_emoji(string):\n",
    "    emoji_pattern = re.compile(\"[\"\n",
    "                           u\"\\U0001F600-\\U0001F64F\" # emoticons\n",
    "                           u\"\\U0001F300-\\U0001F5FF\" # symbols & pictographs\n",
    "                           u\"\\U0001F680-\\U0001F6FF\" # transport & map symbols\n",
    "                           u\"\\U0001F1E0-\\U0001F1FF\" # flags (iOS)\n",
    "                           u\"\\U00002702-\\U000027B0\"\n",
    "                           u\"\\U000024C2-\\U0001F251\"\n",
    "                           \"]+\", flags=re.UNICODE)\n",
    "    return emoji_pattern.sub(r'', string)"
   ]
  },
  {
   "cell_type": "code",
   "execution_count": 12,
   "id": "f32c67e0-a8dc-4350-97ec-58516dc6104a",
   "metadata": {
    "tags": []
   },
   "outputs": [],
   "source": [
    "# Cleaning up the data\n",
    "df['cleaned'] = df['posts'].apply(str.lower) # Fixing the casing by lowercasing everthing\n",
    "\n",
    "regex_to_clean = [r'(@.+?)\\s', # Removing latter half of the email/mentioning of someone\n",
    "                  r'\\s\\d+\\s', # Removing Digits\n",
    "                  r'(//t.co/.+?)\\s', # Removing part of website\n",
    "                  r'(//t.co/.+?)', # Removing part of website\n",
    "                  r'https?://\\S+',] # Removing http and https URLs \n",
    "\n",
    "# Applying above regexes to the dataframe\n",
    "for reg in regex_to_clean:\n",
    "    df['cleaned'] = df['cleaned'].apply(regex_clean, regex=reg)\n",
    "    \n",
    "# Getting rid of emojis \n",
    "df['cleaned'] = df['cleaned'].apply(remove_emoji)"
   ]
  },
  {
   "cell_type": "code",
   "execution_count": 13,
   "id": "cd5b3e94-9b7e-478d-ae0f-14f693165df3",
   "metadata": {
    "tags": []
   },
   "outputs": [
    {
     "data": {
      "text/html": [
       "<div>\n",
       "<style scoped>\n",
       "    .dataframe tbody tr th:only-of-type {\n",
       "        vertical-align: middle;\n",
       "    }\n",
       "\n",
       "    .dataframe tbody tr th {\n",
       "        vertical-align: top;\n",
       "    }\n",
       "\n",
       "    .dataframe thead th {\n",
       "        text-align: right;\n",
       "    }\n",
       "</style>\n",
       "<table border=\"1\" class=\"dataframe\">\n",
       "  <thead>\n",
       "    <tr style=\"text-align: right;\">\n",
       "      <th></th>\n",
       "      <th>posts</th>\n",
       "      <th>cleaned</th>\n",
       "      <th>tokens</th>\n",
       "    </tr>\n",
       "  </thead>\n",
       "  <tbody>\n",
       "    <tr>\n",
       "      <th>0</th>\n",
       "      <td>Hi! We're from [Animal Charity Evaluators](htt...</td>\n",
       "      <td>hi! we're from [animal charity evaluators]( (a...</td>\n",
       "      <td>[hi, !, we, 're, from, [, animal, charity, eva...</td>\n",
       "    </tr>\n",
       "    <tr>\n",
       "      <th>1</th>\n",
       "      <td></td>\n",
       "      <td></td>\n",
       "      <td>[]</td>\n",
       "    </tr>\n",
       "    <tr>\n",
       "      <th>2</th>\n",
       "      <td>The company is ordering pizza today for two de...</td>\n",
       "      <td>the company is ordering pizza today for two de...</td>\n",
       "      <td>[the, company, is, ordering, pizza, today, for...</td>\n",
       "    </tr>\n",
       "    <tr>\n",
       "      <th>3</th>\n",
       "      <td>I have been vegan for 3 years now. Recently, I...</td>\n",
       "      <td>i have been vegan foryears now. recently, i ha...</td>\n",
       "      <td>[i, have, been, vegan, foryears, now, ., recen...</td>\n",
       "    </tr>\n",
       "    <tr>\n",
       "      <th>4</th>\n",
       "      <td>Hey yall so I am a chef and get tired of makin...</td>\n",
       "      <td>hey yall so i am a chef and get tired of makin...</td>\n",
       "      <td>[hey, yall, so, i, am, a, chef, and, get, tire...</td>\n",
       "    </tr>\n",
       "  </tbody>\n",
       "</table>\n",
       "</div>"
      ],
      "text/plain": [
       "                                               posts  \\\n",
       "0  Hi! We're from [Animal Charity Evaluators](htt...   \n",
       "1                                                      \n",
       "2  The company is ordering pizza today for two de...   \n",
       "3  I have been vegan for 3 years now. Recently, I...   \n",
       "4  Hey yall so I am a chef and get tired of makin...   \n",
       "\n",
       "                                             cleaned  \\\n",
       "0  hi! we're from [animal charity evaluators]( (a...   \n",
       "1                                                      \n",
       "2  the company is ordering pizza today for two de...   \n",
       "3  i have been vegan foryears now. recently, i ha...   \n",
       "4  hey yall so i am a chef and get tired of makin...   \n",
       "\n",
       "                                              tokens  \n",
       "0  [hi, !, we, 're, from, [, animal, charity, eva...  \n",
       "1                                                 []  \n",
       "2  [the, company, is, ordering, pizza, today, for...  \n",
       "3  [i, have, been, vegan, foryears, now, ., recen...  \n",
       "4  [hey, yall, so, i, am, a, chef, and, get, tire...  "
      ]
     },
     "execution_count": 13,
     "metadata": {},
     "output_type": "execute_result"
    }
   ],
   "source": [
    "# Tokenizing the clean version of the data\n",
    "df['tokens'] = df['cleaned'].apply(word_tokenize)\n",
    "\n",
    "# Checking the dataframe\n",
    "df.head()"
   ]
  },
  {
   "cell_type": "code",
   "execution_count": 14,
   "id": "b612188d-20e9-4b3b-9780-3960d98b1d68",
   "metadata": {
    "tags": []
   },
   "outputs": [],
   "source": [
    "# Creating a stopwords list for English\n",
    "stpwrd = nltk.corpus.stopwords.words('english')\n",
    "\n",
    "# Adding punctuation list to stopwords\n",
    "stpwrd.extend(string.punctuation) "
   ]
  },
  {
   "cell_type": "code",
   "execution_count": 15,
   "id": "cbccfa03-a5bf-46eb-9785-fcf6872df48d",
   "metadata": {
    "tags": []
   },
   "outputs": [],
   "source": [
    "# Getting rid of all the stopwords and punctuation\n",
    "df['tokens'] = df['tokens'].apply(lambda x:[words for words in x if words not in stpwrd])"
   ]
  },
  {
   "cell_type": "code",
   "execution_count": 16,
   "id": "0a143938-6a7c-4fec-a827-cbd6cba0a165",
   "metadata": {
    "tags": []
   },
   "outputs": [],
   "source": [
    "# Dealing with shortened versions of supporting verbs\n",
    "df['tokens'] = df['tokens'].apply(lambda x: [words for words in x if \"'\" not in words])"
   ]
  },
  {
   "cell_type": "code",
   "execution_count": 17,
   "id": "0c0fa7f6-ddfb-436f-922f-56a8948b5183",
   "metadata": {
    "tags": []
   },
   "outputs": [],
   "source": [
    "# Further cleaning with numbers, times, Mac specific punctuations\n",
    "df['tokens'] = df['tokens'].apply(lambda x: [words for words in x if not re.match(r'^\\d+(?:[-:]\\d+)?(?:am|pm)?|’$', words)])"
   ]
  },
  {
   "cell_type": "code",
   "execution_count": 18,
   "id": "94101329-afb5-41e1-81b8-89fbd966f01e",
   "metadata": {
    "tags": []
   },
   "outputs": [],
   "source": [
    "# Keeping the words having at least 3 characters to avoid 'AM', 'PM' etc.\n",
    "df['tokens'] = df['tokens'].apply(lambda document : [token for token in document if len(token)>2])"
   ]
  },
  {
   "cell_type": "code",
   "execution_count": 19,
   "id": "b17c0f6e-16ee-4a90-a1fd-f2a6511a06c8",
   "metadata": {
    "tags": []
   },
   "outputs": [],
   "source": [
    "# Creating an additional list to eliminate all the things that still managed to get through the checks\n",
    "unwanted_words = [\n",
    "    'vegan', 'vegans', 'veganism', 'much', 'anything', 'really', 'know', 'ask', 'see', 'guys', 'think', \n",
    "    'made', 'got', 'would', 'like', 'get', 'actually', 'good', 'best', 'use', 'could', 'also', 'take', \n",
    "    'say', 'etc', 'recently', 'give', 'edit', 'thanks', 'grants', 'case', 'find', 'enough', 'wanted', 'many',\n",
    "    'date', 'ace', 'looking', 'years', 'evaluators', 'applications', 'answering', 'animal', 'asked', 'around',\n",
    "    'however'\n",
    "]"
   ]
  },
  {
   "cell_type": "code",
   "execution_count": 20,
   "id": "521a40ad-04dc-4f02-a866-ecdfa3602cc9",
   "metadata": {
    "tags": []
   },
   "outputs": [],
   "source": [
    "# Getting rid of unwanted words\n",
    "df['tokens'] = df['tokens'].apply(lambda x:[words for words in x if words not in unwanted_words])"
   ]
  },
  {
   "cell_type": "code",
   "execution_count": 21,
   "id": "defaf853-3ca8-4689-9a68-bee6cf6b2bd4",
   "metadata": {
    "tags": []
   },
   "outputs": [],
   "source": [
    "# Creating a dictionary off the back of the documents\n",
    "terms = Dictionary(documents = df['tokens'])"
   ]
  },
  {
   "cell_type": "code",
   "execution_count": 22,
   "id": "c67ac922-0c98-4a73-9fc8-a25a1afafc49",
   "metadata": {
    "tags": []
   },
   "outputs": [],
   "source": [
    "## Creating an empty dictionary\n",
    "clean_dictionary = {}\n",
    "\n",
    "# Filling the empty dictionary with only the terms appearing more than once\n",
    "for k,v in terms.cfs.items(): # term=key and term_frequency=value\n",
    "    if v>1:\n",
    "        clean_dictionary[terms[k]] = v"
   ]
  },
  {
   "cell_type": "code",
   "execution_count": null,
   "id": "c57e3b68-749e-4891-aded-07daf7a8e526",
   "metadata": {
    "tags": []
   },
   "outputs": [],
   "source": [
    "# Assigning the image variable\n",
    "image = Image.open(\"/Users/v/Documents/GitHub/Vegan-WordCloud/vegan-thumbnail.png\")\n",
    "\n",
    "# Convert palette back to RGB\n",
    "colors = list(image.palette.colors.keys())\n",
    "\n",
    "# Creating a mask using the image\n",
    "mask = np.moveaxis(np.vectorize(lambda x: colors[x])(np.asarray(image)), 0, -1)\n",
    "\n",
    "# Using the WordCloud library to create a WordCloud from the dict\n",
    "wc = WordCloud(width=800, height=400, background_color=\"white\", max_words=150, mask=mask).generate_from_frequencies(clean_dictionary)\n",
    "image_colors = ImageColorGenerator(mask)\n",
    "plt.figure(figsize=(10,8))\n",
    "plt.imshow(wc.recolor(color_func=image_colors), interpolation=\"bilinear\")\n",
    "plt.axis(\"off\")\n",
    "wc.to_file(\"Vegan WordCloud.png\")"
   ]
  },
  {
   "cell_type": "markdown",
   "id": "5b3ba807-6b06-4bf6-95f0-93b77e297532",
   "metadata": {},
   "source": [
    "<h1 style=\"text-align: center;\">Result:</h1>\n",
    "\n",
    "<div style=\"text-align: center;\">\n",
    "    <img src=\"https://github.com/elifvarli/Vegan-WordCloud/blob/main/Vegan%20WordCloud.png?raw=True\" alt=\"Vegan WordCloud\" />\n",
    "</div>"
   ]
  }
 ],
 "metadata": {
  "kernelspec": {
   "display_name": "Python 3 (ipykernel)",
   "language": "python",
   "name": "python3"
  },
  "language_info": {
   "codemirror_mode": {
    "name": "ipython",
    "version": 3
   },
   "file_extension": ".py",
   "mimetype": "text/x-python",
   "name": "python",
   "nbconvert_exporter": "python",
   "pygments_lexer": "ipython3",
   "version": "3.11.5"
  }
 },
 "nbformat": 4,
 "nbformat_minor": 5
}
